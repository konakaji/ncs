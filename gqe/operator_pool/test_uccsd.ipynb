{
 "cells": [
  {
   "cell_type": "code",
   "execution_count": 6,
   "metadata": {
    "collapsed": true,
    "ExecuteTime": {
     "end_time": "2023-08-14T16:07:50.151235Z",
     "start_time": "2023-08-14T16:07:50.051308Z"
    }
   },
   "outputs": [
    {
     "name": "stdout",
     "output_type": "stream",
     "text": [
      "converged SCF energy = -1.00510670656849\n"
     ]
    },
    {
     "ename": "TypeError",
     "evalue": "list indices must be integers or slices, not str",
     "output_type": "error",
     "traceback": [
      "\u001B[0;31m---------------------------------------------------------------------------\u001B[0m",
      "\u001B[0;31mTypeError\u001B[0m                                 Traceback (most recent call last)",
      "Cell \u001B[0;32mIn[6], line 3\u001B[0m\n\u001B[1;32m      1\u001B[0m \u001B[38;5;28;01mfrom\u001B[39;00m \u001B[38;5;21;01mgqe\u001B[39;00m\u001B[38;5;21;01m.\u001B[39;00m\u001B[38;5;21;01moperator_pool\u001B[39;00m\u001B[38;5;21;01m.\u001B[39;00m\u001B[38;5;21;01muccsd\u001B[39;00m \u001B[38;5;28;01mimport\u001B[39;00m UCCSD\n\u001B[0;32m----> 3\u001B[0m uccsd \u001B[38;5;241m=\u001B[39m \u001B[43mUCCSD\u001B[49m\u001B[43m(\u001B[49m\u001B[38;5;124;43m'\u001B[39;49m\u001B[38;5;124;43mH\u001B[39;49m\u001B[38;5;124;43m'\u001B[39;49m\u001B[43m,\u001B[49m\u001B[43m \u001B[49m\u001B[38;5;124;43m'\u001B[39;49m\u001B[38;5;124;43mH\u001B[39;49m\u001B[38;5;124;43m'\u001B[39;49m\u001B[43m,\u001B[49m\u001B[43m \u001B[49m\u001B[38;5;241;43m1.2\u001B[39;49m\u001B[43m,\u001B[49m\u001B[43m \u001B[49m\u001B[38;5;124;43m'\u001B[39;49m\u001B[38;5;124;43msto-3g\u001B[39;49m\u001B[38;5;124;43m'\u001B[39;49m\u001B[43m)\u001B[49m\n",
      "File \u001B[0;32m~/PycharmProjects/gqe/gqe/operator_pool/uccsd.py:10\u001B[0m, in \u001B[0;36mUCCSD.__init__\u001B[0;34m(self, atom1type, atom2type, bond_length, basis_set, method, threshold, trotter_steps)\u001B[0m\n\u001B[1;32m      7\u001B[0m active_orbitals \u001B[38;5;241m=\u001B[39m {\u001B[38;5;124m'\u001B[39m\u001B[38;5;124mA1\u001B[39m\u001B[38;5;124m'\u001B[39m: [\u001B[38;5;241m1\u001B[39m], \u001B[38;5;124m\"\u001B[39m\u001B[38;5;124mB1\u001B[39m\u001B[38;5;124m\"\u001B[39m: [\u001B[38;5;241m0\u001B[39m]}\n\u001B[1;32m      8\u001B[0m geometry \u001B[38;5;241m=\u001B[39m (\u001B[38;5;124mf\u001B[39m\u001B[38;5;124m\"\u001B[39m\u001B[38;5;132;01m{\u001B[39;00matom1type\u001B[38;5;132;01m}\u001B[39;00m\u001B[38;5;124m 0.0 0.0 0.0\u001B[39m\u001B[38;5;130;01m\\n\u001B[39;00m\u001B[38;5;124m\"\u001B[39m \u001B[38;5;241m+\u001B[39m\n\u001B[1;32m      9\u001B[0m             \u001B[38;5;124mf\u001B[39m\u001B[38;5;124m\"\u001B[39m\u001B[38;5;132;01m{\u001B[39;00matom2type\u001B[38;5;132;01m}\u001B[39;00m\u001B[38;5;124m 0.0 0.0 \u001B[39m\u001B[38;5;132;01m{\u001B[39;00mbond_length\u001B[38;5;132;01m}\u001B[39;00m\u001B[38;5;124m\"\u001B[39m)\n\u001B[0;32m---> 10\u001B[0m molecule \u001B[38;5;241m=\u001B[39m \u001B[43mtq\u001B[49m\u001B[38;5;241;43m.\u001B[39;49m\u001B[43mchemistry\u001B[49m\u001B[38;5;241;43m.\u001B[39;49m\u001B[43mMolecule\u001B[49m\u001B[43m(\u001B[49m\u001B[43mgeometry\u001B[49m\u001B[38;5;241;43m=\u001B[39;49m\u001B[43mgeometry\u001B[49m\u001B[43m,\u001B[49m\n\u001B[1;32m     11\u001B[0m \u001B[43m                                  \u001B[49m\u001B[43mbasis_set\u001B[49m\u001B[38;5;241;43m=\u001B[39;49m\u001B[43mbasis_set\u001B[49m\u001B[43m,\u001B[49m\n\u001B[1;32m     12\u001B[0m \u001B[43m                                  \u001B[49m\u001B[43mactive_orbitals\u001B[49m\u001B[38;5;241;43m=\u001B[39;49m\u001B[43mactive_orbitals\u001B[49m\u001B[43m)\u001B[49m\n\u001B[1;32m     13\u001B[0m H \u001B[38;5;241m=\u001B[39m molecule\u001B[38;5;241m.\u001B[39mmake_hamiltonian()\n\u001B[1;32m     14\u001B[0m U \u001B[38;5;241m=\u001B[39m molecule\u001B[38;5;241m.\u001B[39mmake_uccsd_ansatz(initial_amplitudes\u001B[38;5;241m=\u001B[39mmethod,\n\u001B[1;32m     15\u001B[0m                                threshold\u001B[38;5;241m=\u001B[39mthreshold,\n\u001B[1;32m     16\u001B[0m                                trotter_steps\u001B[38;5;241m=\u001B[39mtrotter_steps)\n",
      "File \u001B[0;32m~/PycharmProjects/gqe/venv/lib/python3.8/site-packages/tequila/quantumchemistry/__init__.py:138\u001B[0m, in \u001B[0;36mMolecule\u001B[0;34m(geometry, basis_set, transformation, orbital_type, backend, guess_wfn, name, *args, **kwargs)\u001B[0m\n\u001B[1;32m    135\u001B[0m     basis_set \u001B[38;5;241m=\u001B[39m \u001B[38;5;124m\"\u001B[39m\u001B[38;5;124mcustom\u001B[39m\u001B[38;5;124m\"\u001B[39m\n\u001B[1;32m    136\u001B[0m     parameters\u001B[38;5;241m.\u001B[39mbasis_set \u001B[38;5;241m=\u001B[39m basis_set\n\u001B[0;32m--> 138\u001B[0m \u001B[38;5;28;01mreturn\u001B[39;00m \u001B[43mINSTALLED_QCHEMISTRY_BACKENDS\u001B[49m\u001B[43m[\u001B[49m\u001B[43mbackend\u001B[49m\u001B[38;5;241;43m.\u001B[39;49m\u001B[43mlower\u001B[49m\u001B[43m(\u001B[49m\u001B[43m)\u001B[49m\u001B[43m]\u001B[49m\u001B[43m(\u001B[49m\u001B[43mparameters\u001B[49m\u001B[38;5;241;43m=\u001B[39;49m\u001B[43mparameters\u001B[49m\u001B[43m,\u001B[49m\u001B[43m \u001B[49m\u001B[43mtransformation\u001B[49m\u001B[38;5;241;43m=\u001B[39;49m\u001B[43mtransformation\u001B[49m\u001B[43m,\u001B[49m\u001B[43m \u001B[49m\u001B[43morbital_type\u001B[49m\u001B[38;5;241;43m=\u001B[39;49m\u001B[43morbital_type\u001B[49m\u001B[43m,\u001B[49m\n\u001B[1;32m    139\u001B[0m \u001B[43m                                                      \u001B[49m\u001B[43mguess_wfn\u001B[49m\u001B[38;5;241;43m=\u001B[39;49m\u001B[43mguess_wfn\u001B[49m\u001B[43m,\u001B[49m\u001B[43m \u001B[49m\u001B[38;5;241;43m*\u001B[39;49m\u001B[43margs\u001B[49m\u001B[43m,\u001B[49m\u001B[43m \u001B[49m\u001B[38;5;241;43m*\u001B[39;49m\u001B[38;5;241;43m*\u001B[39;49m\u001B[43mkwargs\u001B[49m\u001B[43m)\u001B[49m\n",
      "File \u001B[0;32m~/PycharmProjects/gqe/venv/lib/python3.8/site-packages/tequila/quantumchemistry/pyscf_interface.py:72\u001B[0m, in \u001B[0;36mQuantumChemistryPySCF.__init__\u001B[0;34m(self, parameters, transformation, *args, **kwargs)\u001B[0m\n\u001B[1;32m     69\u001B[0m     \u001B[38;5;28;01mif\u001B[39;00m \u001B[38;5;124m\"\u001B[39m\u001B[38;5;124mnuclear_repulsion\u001B[39m\u001B[38;5;124m\"\u001B[39m \u001B[38;5;129;01mnot\u001B[39;00m \u001B[38;5;129;01min\u001B[39;00m kwargs:\n\u001B[1;32m     70\u001B[0m         kwargs[\u001B[38;5;124m\"\u001B[39m\u001B[38;5;124mnuclear_repulsion\u001B[39m\u001B[38;5;124m\"\u001B[39m] \u001B[38;5;241m=\u001B[39m mol\u001B[38;5;241m.\u001B[39menergy_nuc()\n\u001B[0;32m---> 72\u001B[0m \u001B[38;5;28;43msuper\u001B[39;49m\u001B[43m(\u001B[49m\u001B[43m)\u001B[49m\u001B[38;5;241;43m.\u001B[39;49m\u001B[38;5;21;43m__init__\u001B[39;49m\u001B[43m(\u001B[49m\u001B[43mparameters\u001B[49m\u001B[38;5;241;43m=\u001B[39;49m\u001B[43mparameters\u001B[49m\u001B[43m,\u001B[49m\u001B[43m \u001B[49m\u001B[43mtransformation\u001B[49m\u001B[38;5;241;43m=\u001B[39;49m\u001B[43mtransformation\u001B[49m\u001B[43m,\u001B[49m\u001B[43m \u001B[49m\u001B[38;5;241;43m*\u001B[39;49m\u001B[43margs\u001B[49m\u001B[43m,\u001B[49m\u001B[43m \u001B[49m\u001B[38;5;241;43m*\u001B[39;49m\u001B[38;5;241;43m*\u001B[39;49m\u001B[43mkwargs\u001B[49m\u001B[43m)\u001B[49m\n",
      "File \u001B[0;32m~/PycharmProjects/gqe/venv/lib/python3.8/site-packages/tequila/quantumchemistry/qc_base.py:95\u001B[0m, in \u001B[0;36mQuantumChemistryBase.__init__\u001B[0;34m(self, parameters, transformation, active_orbitals, frozen_orbitals, orbital_type, reference_orbitals, orbitals, *args, **kwargs)\u001B[0m\n\u001B[1;32m     93\u001B[0m     \u001B[38;5;28mself\u001B[39m\u001B[38;5;241m.\u001B[39mintegral_manager \u001B[38;5;241m=\u001B[39m kwargs[\u001B[38;5;124m\"\u001B[39m\u001B[38;5;124mintegral_manager\u001B[39m\u001B[38;5;124m\"\u001B[39m]\n\u001B[1;32m     94\u001B[0m \u001B[38;5;28;01melse\u001B[39;00m:\n\u001B[0;32m---> 95\u001B[0m     \u001B[38;5;28mself\u001B[39m\u001B[38;5;241m.\u001B[39mintegral_manager \u001B[38;5;241m=\u001B[39m \u001B[38;5;28;43mself\u001B[39;49m\u001B[38;5;241;43m.\u001B[39;49m\u001B[43minitialize_integral_manager\u001B[49m\u001B[43m(\u001B[49m\u001B[43mactive_orbitals\u001B[49m\u001B[38;5;241;43m=\u001B[39;49m\u001B[43mactive_orbitals\u001B[49m\u001B[43m,\u001B[49m\n\u001B[1;32m     96\u001B[0m \u001B[43m                                                             \u001B[49m\u001B[43mreference_orbitals\u001B[49m\u001B[38;5;241;43m=\u001B[39;49m\u001B[43mreference_orbitals\u001B[49m\u001B[43m,\u001B[49m\n\u001B[1;32m     97\u001B[0m \u001B[43m                                                             \u001B[49m\u001B[43morbitals\u001B[49m\u001B[38;5;241;43m=\u001B[39;49m\u001B[43morbitals\u001B[49m\u001B[43m,\u001B[49m\u001B[43m \u001B[49m\u001B[43mfrozen_orbitals\u001B[49m\u001B[38;5;241;43m=\u001B[39;49m\u001B[43mfrozen_orbitals\u001B[49m\u001B[43m,\u001B[49m\u001B[43m \u001B[49m\u001B[43morbital_type\u001B[49m\u001B[38;5;241;43m=\u001B[39;49m\u001B[43morbital_type\u001B[49m\u001B[43m,\u001B[49m\u001B[43m \u001B[49m\u001B[38;5;241;43m*\u001B[39;49m\u001B[43margs\u001B[49m\u001B[43m,\u001B[49m\n\u001B[1;32m     98\u001B[0m \u001B[43m                                                             \u001B[49m\u001B[38;5;241;43m*\u001B[39;49m\u001B[38;5;241;43m*\u001B[39;49m\u001B[43mkwargs\u001B[49m\u001B[43m)\u001B[49m\n\u001B[1;32m    100\u001B[0m \u001B[38;5;28;01mif\u001B[39;00m orbital_type \u001B[38;5;129;01mis\u001B[39;00m \u001B[38;5;129;01mnot\u001B[39;00m \u001B[38;5;28;01mNone\u001B[39;00m \u001B[38;5;129;01mand\u001B[39;00m orbital_type\u001B[38;5;241m.\u001B[39mlower() \u001B[38;5;241m==\u001B[39m \u001B[38;5;124m\"\u001B[39m\u001B[38;5;124mnative\u001B[39m\u001B[38;5;124m\"\u001B[39m:\n\u001B[1;32m    101\u001B[0m     \u001B[38;5;28mself\u001B[39m\u001B[38;5;241m.\u001B[39mintegral_manager\u001B[38;5;241m.\u001B[39mtransform_to_native_orbitals()\n",
      "File \u001B[0;32m~/PycharmProjects/gqe/venv/lib/python3.8/site-packages/tequila/quantumchemistry/qc_base.py:528\u001B[0m, in \u001B[0;36mQuantumChemistryBase.initialize_integral_manager\u001B[0;34m(self, *args, **kwargs)\u001B[0m\n\u001B[1;32m    525\u001B[0m \u001B[38;5;28;01mif\u001B[39;00m \u001B[38;5;124m\"\u001B[39m\u001B[38;5;124mbasis_name\u001B[39m\u001B[38;5;124m\"\u001B[39m \u001B[38;5;129;01mnot\u001B[39;00m \u001B[38;5;129;01min\u001B[39;00m kwargs:\n\u001B[1;32m    526\u001B[0m     kwargs[\u001B[38;5;124m\"\u001B[39m\u001B[38;5;124mbasis_name\u001B[39m\u001B[38;5;124m\"\u001B[39m] \u001B[38;5;241m=\u001B[39m \u001B[38;5;28mself\u001B[39m\u001B[38;5;241m.\u001B[39mparameters\u001B[38;5;241m.\u001B[39mbasis_set\n\u001B[0;32m--> 528\u001B[0m manager \u001B[38;5;241m=\u001B[39m \u001B[43mIntegralManager\u001B[49m\u001B[43m(\u001B[49m\u001B[43mone_body_integrals\u001B[49m\u001B[38;5;241;43m=\u001B[39;49m\u001B[43mone_body_integrals\u001B[49m\u001B[43m,\u001B[49m\u001B[43m \u001B[49m\u001B[43mtwo_body_integrals\u001B[49m\u001B[38;5;241;43m=\u001B[39;49m\u001B[43mtwo_body_integrals\u001B[49m\u001B[43m,\u001B[49m\n\u001B[1;32m    529\u001B[0m \u001B[43m                          \u001B[49m\u001B[43mconstant_term\u001B[49m\u001B[38;5;241;43m=\u001B[39;49m\u001B[43mconstant_part\u001B[49m\u001B[43m,\u001B[49m\u001B[43m \u001B[49m\u001B[38;5;241;43m*\u001B[39;49m\u001B[43margs\u001B[49m\u001B[43m,\u001B[49m\u001B[43m \u001B[49m\u001B[38;5;241;43m*\u001B[39;49m\u001B[38;5;241;43m*\u001B[39;49m\u001B[43mkwargs\u001B[49m\u001B[43m)\u001B[49m\n\u001B[1;32m    531\u001B[0m \u001B[38;5;28;01mreturn\u001B[39;00m manager\n",
      "File \u001B[0;32m~/PycharmProjects/gqe/venv/lib/python3.8/site-packages/tequila/quantumchemistry/chemistry_tools.py:851\u001B[0m, in \u001B[0;36mIntegralManager.__init__\u001B[0;34m(self, one_body_integrals, two_body_integrals, basis_type, basis_name, orbital_type, constant_term, orbital_coefficients, active_space, overlap_integrals, orbitals, *args, **kwargs)\u001B[0m\n\u001B[1;32m    848\u001B[0m     orbitals \u001B[38;5;241m=\u001B[39m [OrbitalData(idx_total\u001B[38;5;241m=\u001B[39mi, idx\u001B[38;5;241m=\u001B[39mi) \u001B[38;5;28;01mfor\u001B[39;00m i \u001B[38;5;129;01min\u001B[39;00m \u001B[38;5;28mrange\u001B[39m(one_body_integrals\u001B[38;5;241m.\u001B[39mshape[\u001B[38;5;241m0\u001B[39m])]\n\u001B[1;32m    850\u001B[0m \u001B[38;5;28mself\u001B[39m\u001B[38;5;241m.\u001B[39m_orbitals \u001B[38;5;241m=\u001B[39m orbitals\n\u001B[0;32m--> 851\u001B[0m \u001B[38;5;28;43mself\u001B[39;49m\u001B[38;5;241;43m.\u001B[39;49m\u001B[43mactive_space\u001B[49m \u001B[38;5;241m=\u001B[39m active_space\n",
      "File \u001B[0;32m~/PycharmProjects/gqe/venv/lib/python3.8/site-packages/tequila/quantumchemistry/chemistry_tools.py:888\u001B[0m, in \u001B[0;36mIntegralManager.active_space\u001B[0;34m(self, other)\u001B[0m\n\u001B[1;32m    886\u001B[0m     x\u001B[38;5;241m.\u001B[39midx \u001B[38;5;241m=\u001B[39m \u001B[38;5;28;01mNone\u001B[39;00m\n\u001B[1;32m    887\u001B[0m \u001B[38;5;28;01mfor\u001B[39;00m ii,i \u001B[38;5;129;01min\u001B[39;00m \u001B[38;5;28menumerate\u001B[39m(other\u001B[38;5;241m.\u001B[39mactive_orbitals):\n\u001B[0;32m--> 888\u001B[0m     \u001B[38;5;28;43mself\u001B[39;49m\u001B[38;5;241;43m.\u001B[39;49m\u001B[43m_orbitals\u001B[49m\u001B[43m[\u001B[49m\u001B[43mi\u001B[49m\u001B[43m]\u001B[49m\u001B[38;5;241m.\u001B[39midx \u001B[38;5;241m=\u001B[39m ii\n",
      "\u001B[0;31mTypeError\u001B[0m: list indices must be integers or slices, not str"
     ]
    }
   ],
   "source": [
    "from gqe.operator_pool.uccsd import UCCSD\n",
    "\n",
    "uccsd = UCCSD('H', 'H', 1.2, 'sto-3g')\n",
    "uccsd.all()"
   ]
  },
  {
   "cell_type": "code",
   "execution_count": null,
   "outputs": [],
   "source": [],
   "metadata": {
    "collapsed": false
   }
  }
 ],
 "metadata": {
  "kernelspec": {
   "display_name": "Python 3",
   "language": "python",
   "name": "python3"
  },
  "language_info": {
   "codemirror_mode": {
    "name": "ipython",
    "version": 2
   },
   "file_extension": ".py",
   "mimetype": "text/x-python",
   "name": "python",
   "nbconvert_exporter": "python",
   "pygments_lexer": "ipython2",
   "version": "2.7.6"
  }
 },
 "nbformat": 4,
 "nbformat_minor": 0
}
