{
 "cells": [
  {
   "cell_type": "code",
   "execution_count": 3,
   "metadata": {
    "collapsed": true,
    "ExecuteTime": {
     "end_time": "2023-08-17T19:17:14.537473Z",
     "start_time": "2023-08-17T19:17:14.461344Z"
    }
   },
   "outputs": [
    {
     "name": "stdout",
     "output_type": "stream",
     "text": [
      "converged SCF energy = -1.00510670656849\n"
     ]
    }
   ],
   "source": [
    "from gqe.operator_pool.uccsd import UCCSD\n",
    "\n",
    "uccsd = UCCSD('H', 'H', 1.2, 'sto-3g')\n",
    "uccsd.all()"
   ]
  },
  {
   "cell_type": "code",
   "execution_count": 4,
   "outputs": [
    {
     "data": {
      "text/plain": "(-0.4196+0.1170Z(0)+0.1170Z(1)-0.0832Z(2)-0.0832Z(3)+0.1483Z(0)Z(1)+0.0524Y(0)X(1)X(2)Y(3)-0.0524Y(0)Y(1)X(2)X(3)-0.0524X(0)X(1)Y(2)Y(3)+0.0524X(0)Y(1)Y(2)X(3)+0.0960Z(0)Z(2)+0.1485Z(0)Z(3)+0.1485Z(1)Z(2)+0.0960Z(1)Z(3)+0.1557Z(2)Z(3),\n circuit: \n X(target=(0,))\n X(target=(1,))\n FermionicExcitation(target=(0, 1, 2, 3), control=(), parameter=f([(1, 0, 1, 0)]))\n FermionicExcitation(target=(0, 1, 2), control=(), parameter=((0, 1), 'S', None))\n FermionicExcitation(target=(1, 2, 3), control=(), parameter=((0, 1), 'S', None)))"
     },
     "execution_count": 4,
     "metadata": {},
     "output_type": "execute_result"
    }
   ],
   "source": [],
   "metadata": {
    "collapsed": false,
    "ExecuteTime": {
     "end_time": "2023-08-17T19:17:14.543397Z",
     "start_time": "2023-08-17T19:17:14.540577Z"
    }
   }
  }
 ],
 "metadata": {
  "kernelspec": {
   "display_name": "Python 3",
   "language": "python",
   "name": "python3"
  },
  "language_info": {
   "codemirror_mode": {
    "name": "ipython",
    "version": 2
   },
   "file_extension": ".py",
   "mimetype": "text/x-python",
   "name": "python",
   "nbconvert_exporter": "python",
   "pygments_lexer": "ipython2",
   "version": "2.7.6"
  }
 },
 "nbformat": 4,
 "nbformat_minor": 0
}
