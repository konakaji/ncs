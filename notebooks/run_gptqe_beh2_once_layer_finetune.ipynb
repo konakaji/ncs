{
 "cells": [
  {
   "cell_type": "markdown",
   "metadata": {},
   "source": [
    "## A demo using Hydrogen Hamiltonian with GPT-QE."
   ]
  },
  {
   "cell_type": "code",
   "execution_count": 23,
   "metadata": {
    "ExecuteTime": {
     "end_time": "2023-09-29T16:07:29.841898Z",
     "start_time": "2023-09-29T16:07:29.836993Z"
    }
   },
   "outputs": [],
   "source": [
    "import torch\n",
    "from gqe.mingpt.utils import set_seed\n",
    "\n",
    "set_seed(3407)"
   ]
  },
  {
   "cell_type": "code",
   "execution_count": 24,
   "outputs": [
    {
     "name": "stdout",
     "output_type": "stream",
     "text": [
      "converged SCF energy = -15.0242100060364\n",
      "paulis [+IIIXIIIIIIII, +IIIXZYIIIIII, +IIIXZZZYIIII, +IIIXZZZZZYII, +IIIXZZZZZZZY, +IIIYZXIIIIII, +IIIYZZZXIIII, +IIIYZZZZZXII, +IIIYZZZZZZZX, +IIXIIIIIIIII, +IIXXIIIIIIXY, +IIXXIIIIIIYX, +IIXXIIIIXYII, +IIXXIIIIYXII, +IIXXIIXYIIII, +IIXXIIYXIIII, +IIXXXYIIIIII, +IIXXYXIIIIII, +IIXYIIIIIIXX, +IIXYIIIIIIYY, +IIXYIIIIXXII, +IIXYIIIIYYII, +IIXYIIXXIIII, +IIXYIIYYIIII, +IIXYXXIIIIII, +IIXYYYIIIIII, +IIXZYIIIIIII, +IIXZZZYIIIII, +IIXZZZZZYIII, +IIXZZZZZZZYI, +IIYXIIIIIIXX, +IIYXIIIIIIYY, +IIYXIIIIXXII, +IIYXIIIIYYII, +IIYXIIXXIIII, +IIYXIIYYIIII, +IIYXXXIIIIII, +IIYXYYIIIIII, +IIYYIIIIIIXY, +IIYYIIIIIIYX, +IIYYIIIIXYII, +IIYYIIIIYXII, +IIYYIIXYIIII, +IIYYIIYXIIII, +IIYYXYIIIIII, +IIYYYXIIIIII, +IIYZXIIIIIII, +IIYZZZXIIIII, +IIYZZZZZXIII, +IIYZZZZZZZXI, +IXIIIIIIIIII, +IXXIIXZZZZYI, +IXXIIYZZZZXI, +IXXIXZZZZZZY, +IXXIYZZZZZZX, +IXYIIXZZZZXI, +IXYIIYZZZZYI, +IXYIXZZZZZZX, +IXYIYZZZZZZY, +IXZXIXZZZZZY, +IXZXIYZZZZZX, +IXZYIXZZZZZX, +IXZYIYZZZZZY, +IXZZZYIIIIII, +IXZZZZZYIIII, +IXZZZZZZZYII, +IXZZZZZZZZZY, +IYXIIXZZZZXI, +IYXIIYZZZZYI, +IYXIXZZZZZZX, +IYXIYZZZZZZY, +IYYIIXZZZZYI, +IYYIIYZZZZXI, +IYYIXZZZZZZY, +IYYIYZZZZZZX, +IYZXIXZZZZZX, +IYZXIYZZZZZY, +IYZYIXZZZZZY, +IYZYIYZZZZZX, +IYZZZXIIIIII, +IYZZZZZXIIII, +IYZZZZZZZXII, +IYZZZZZZZZZX, +XIIIIIIIIIII, +XXIIIIIIIIXY, +XXIIIIIIIIYX, +XXIIIIIIXYII, +XXIIIIIIYXII, +XXIIIIXYIIII, +XXIIIIYXIIII, +XXIIXYIIIIII, +XXIIYXIIIIII, +XYIIIIIIIIXX, +XYIIIIIIIIYY, +XYIIIIIIXXII, +XYIIIIIIYYII, +XYIIIIXXIIII, +XYIIIIYYIIII, +XYIIXXIIIIII, +XYIIYYIIIIII, +XZXIXZZZZZYI, +XZXIYZZZZZXI, +XZYIXZZZZZXI, +XZYIYZZZZZYI, +XZZXIXZZZZYI, +XZZXIYZZZZXI, +XZZXXZZZZZZY, +XZZXYZZZZZZX, +XZZYIXZZZZXI, +XZZYIYZZZZYI, +XZZYXZZZZZZX, +XZZYYZZZZZZY, +XZZZYIIIIIII, +XZZZZZYIIIII, +XZZZZZZZYIII, +XZZZZZZZZZYI, +YXIIIIIIIIXX, +YXIIIIIIIIYY, +YXIIIIIIXXII, +YXIIIIIIYYII, +YXIIIIXXIIII, +YXIIIIYYIIII, +YXIIXXIIIIII, +YXIIYYIIIIII, +YYIIIIIIIIXY, +YYIIIIIIIIYX, +YYIIIIIIXYII, +YYIIIIIIYXII, +YYIIIIXYIIII, +YYIIIIYXIIII, +YYIIXYIIIIII, +YYIIYXIIIIII, +YZXIXZZZZZXI, +YZXIYZZZZZYI, +YZYIXZZZZZYI, +YZYIYZZZZZXI, +YZZXIXZZZZXI, +YZZXIYZZZZYI, +YZZXXZZZZZZX, +YZZXYZZZZZZY, +YZZYIXZZZZYI, +YZZYIYZZZZXI, +YZZYXZZZZZZY, +YZZYYZZZZZZX, +YZZZXIIIIIII, +YZZZZZXIIIII, +YZZZZZZZXIII, +YZZZZZZZZZXI, +IIIIIIIIII]\n"
     ]
    }
   ],
   "source": [
    "from qwrapper.operator import PauliObservable\n",
    "from gqe.mingpt.cost import EnergyCost\n",
    "from qswift.compiler import DefaultOperatorPool\n",
    "from benchmark.molecule import DiatomicMolecularHamiltonian\n",
    "from gqe.operator_pool.uccsd import UCCSD, do_generate_molecule\n",
    "from gqe.common.initializer import HFStateInitializer\n",
    "from gqe.util import get_device\n",
    "from gqe.mingpt.callback import DefaultCallback, PrintMonitor, FileMonitor\n",
    "\n",
    "# molecule = generate_molecule(\"Li\", \"H\", 1.596, \"sto-3g\", bravyi_kitaev=False)\n",
    "bond_length = 3.0\n",
    "geometry = f\"H 0.0 0.0 0.0\\n\" + f\"Be 0.0 0.0 {bond_length}\\n\" + f\"H 0.0 0.0 {2 * bond_length}\\n\"\n",
    "molecule = do_generate_molecule(geometry, \"sto-3g\", bravyi_kitaev=False)\n",
    "nqubit = 12\n",
    "\n",
    "# prepare Hamiltonian\n",
    "hamiltonian = DiatomicMolecularHamiltonian(nqubit, molecule, bravyi_kitaev=False)\n",
    "\n",
    "# prepare operator_pool\n",
    "uccsd = UCCSD(nqubit, molecule)\n",
    "paulis = uccsd.paulis\n",
    "paulis.append(PauliObservable(\"IIIIIIIIII\"))\n",
    "print('paulis', paulis)\n",
    "num_operators = len(paulis)\n",
    "initializer = HFStateInitializer(n_electrons=4)\n",
    "pool = DefaultOperatorPool(paulis)\n",
    "# time_pool = [1 / 320, -1 / 320, 1 / 160, -1 / 160, 1 / 80, -1 / 80, 1 / 40, -1 / 40, 0.05, -0.05, 0.1, -0.1, 0.2, -0.2]\n",
    "time_pool = [1 / (2 ** j) for j in range(2, 12)]\n",
    "time_pool.extend([-1 / (2 ** j) for j in range(2, 12)])\n",
    "\n",
    "cost = EnergyCost(hamiltonian, initializer, pool, time_pool)\n"
   ],
   "metadata": {
    "collapsed": false,
    "ExecuteTime": {
     "end_time": "2023-09-29T16:07:30.463109Z",
     "start_time": "2023-09-29T16:07:30.099714Z"
    }
   }
  },
  {
   "cell_type": "markdown",
   "source": [
    "## FCI energy by diagonalization"
   ],
   "metadata": {
    "collapsed": false
   }
  },
  {
   "cell_type": "code",
   "execution_count": 25,
   "outputs": [],
   "source": [
    "from qwrapper.hamiltonian import compute_ground_state\n",
    "\n",
    "#print(compute_ground_state(hamiltonian))"
   ],
   "metadata": {
    "collapsed": false,
    "ExecuteTime": {
     "end_time": "2023-09-29T16:07:30.466831Z",
     "start_time": "2023-09-29T16:07:30.463928Z"
    }
   }
  },
  {
   "cell_type": "code",
   "execution_count": 26,
   "outputs": [
    {
     "name": "stdout",
     "output_type": "stream",
     "text": [
      "hf state: -15.024210006036476\n"
     ]
    }
   ],
   "source": [
    "print(\"hf state:\", hamiltonian.exact_value(initializer.init_circuit(12, [], \"qulacs\")))"
   ],
   "metadata": {
    "collapsed": false,
    "ExecuteTime": {
     "end_time": "2023-09-29T16:07:30.500296Z",
     "start_time": "2023-09-29T16:07:30.467346Z"
    }
   }
  },
  {
   "cell_type": "markdown",
   "source": [
    "## Setup for GPT"
   ],
   "metadata": {
    "collapsed": false
   }
  },
  {
   "cell_type": "code",
   "execution_count": 27,
   "metadata": {
    "ExecuteTime": {
     "end_time": "2023-09-29T16:07:30.504673Z",
     "start_time": "2023-09-29T16:07:30.502523Z"
    }
   },
   "outputs": [],
   "source": [
    "# create a GPT instance\n",
    "from gqe.mingpt.model import GPT\n",
    "\n",
    "num_layers = 8\n",
    "\n"
   ]
  },
  {
   "cell_type": "code",
   "execution_count": 28,
   "metadata": {
    "ExecuteTime": {
     "end_time": "2023-09-29T16:07:30.551811Z",
     "start_time": "2023-09-29T16:07:30.508219Z"
    }
   },
   "outputs": [],
   "source": [
    "# create a Trainer object\n",
    "from gqe.mingpt.trainer import Trainer\n",
    "from gqe.mingpt.layer import LayerWiseFineTuneTrainer, LayerWiseFactory\n",
    "from qwrapper.optimizer import AdamOptimizer\n",
    "from math import pi\n",
    "\n",
    "pool = DefaultOperatorPool(paulis)\n",
    "\n",
    "# time_pool = [1 / 320, -1 / 320, 1 / 160, -1 / 160, 1 / 80, -1 / 80, 1 / 40, -1 / 40, 0.05, -0.05, 0.1, -0.1, 0.2, -0.2]\n",
    "\n",
    "# time_pool = [pi * j / 30 for j in range(0, 30)]\n",
    "# time_pool.extend([-pi * j / 30 for j in range(0, 30)])\n",
    "\n",
    "\n",
    "time_pool = [1 / (2 ** j) for j in range(2, 10)]\n",
    "time_pool.extend([-1 / (2 ** j) for j in range(2, 10)])\n",
    "\n",
    "\n",
    "class CustomFactory(LayerWiseFactory):\n",
    "    def generate_train_config(self, layer):\n",
    "        train_config = Trainer.get_default_config()\n",
    "        train_config.learning_rate = 5e-7  # the model we're using is so small that we can go a bit faster\n",
    "        train_config.max_iters = 200\n",
    "        train_config.num_workers = 5\n",
    "        train_config.n_samples = 50\n",
    "        return train_config\n",
    "\n",
    "    def generate_model_config(self, layer):\n",
    "        model_config = GPT.get_default_config()\n",
    "        model_config.model_type = 'gpt2'\n",
    "        model_config.vocab_size = pool.size() * len(time_pool)\n",
    "        model_config.n_gates = 10  # The number of gates for each circuit\n",
    "        model_config.block_size = model_config.n_gates\n",
    "        model_config.temperature = 10  # Each gate is generated with probability exp(-temperature * logit)\n",
    "        model_config.embd_pdrop = 0\n",
    "        model_config.resid_pdrop = 0\n",
    "        model_config.attn_pdrop = 0\n",
    "        model_config.std = 0.02\n",
    "        model_config.energy_offset = 14\n",
    "        return model_config\n",
    "\n",
    "\n",
    "trainer = LayerWiseFineTuneTrainer(CustomFactory(),\n",
    "                                   hamiltonian=hamiltonian,\n",
    "                                   initializer=initializer, optimizer=AdamOptimizer(maxiter=300),\n",
    "                                   num_layers=num_layers, device=get_device(), pool=pool, taus=time_pool)"
   ]
  },
  {
   "cell_type": "markdown",
   "source": [],
   "metadata": {
    "collapsed": false
   }
  },
  {
   "cell_type": "code",
   "execution_count": null,
   "metadata": {
    "is_executing": true,
    "ExecuteTime": {
     "start_time": "2023-09-29T16:07:30.564467Z"
    }
   },
   "outputs": [
    {
     "name": "stdout",
     "output_type": "stream",
     "text": [
      "layer: 1 starts running\n",
      "number of parameters: 86.89M\n",
      "running on device mps\n"
     ]
    }
   ],
   "source": [
    "print_monitors = []\n",
    "file_monitors = []\n",
    "for index in range(num_layers):\n",
    "    file_monitor = FileMonitor()\n",
    "    file_monitors.append(file_monitor)\n",
    "    trainer.set_monitors(index, [PrintMonitor(), file_monitor])\n",
    "trainer.run()\n",
    "#torch.save(model.state_dict(), '../saved_models/gptqe_test_2')"
   ]
  },
  {
   "cell_type": "code",
   "execution_count": null,
   "outputs": [],
   "source": [
    "indices = []\n",
    "for fm in file_monitors:\n",
    "    print(fm.min_energy)\n",
    "    indices.extend(fm.min_indices)\n",
    "print(trainer.vqe.value())"
   ],
   "metadata": {
    "collapsed": false,
    "is_executing": true
   }
  },
  {
   "cell_type": "code",
   "execution_count": null,
   "outputs": [],
   "source": [],
   "metadata": {
    "collapsed": false,
    "is_executing": true
   }
  },
  {
   "cell_type": "code",
   "execution_count": null,
   "outputs": [],
   "source": [],
   "metadata": {
    "collapsed": false,
    "is_executing": true
   }
  }
 ],
 "metadata": {
  "kernelspec": {
   "display_name": "Python 3.10.4 64-bit",
   "language": "python",
   "name": "python3"
  },
  "language_info": {
   "codemirror_mode": {
    "name": "ipython",
    "version": 3
   },
   "file_extension": ".py",
   "mimetype": "text/x-python",
   "name": "python",
   "nbconvert_exporter": "python",
   "pygments_lexer": "ipython3",
   "version": "3.10.4"
  },
  "orig_nbformat": 4,
  "vscode": {
   "interpreter": {
    "hash": "3ad933181bd8a04b432d3370b9dc3b0662ad032c4dfaa4e4f1596c548f763858"
   }
  }
 },
 "nbformat": 4,
 "nbformat_minor": 2
}
