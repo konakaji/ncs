{
 "cells": [
  {
   "cell_type": "markdown",
   "metadata": {},
   "source": [
    "## A demo using Hydrogen Hamiltonian with GPT-QE."
   ]
  },
  {
   "cell_type": "code",
   "execution_count": 1,
   "metadata": {
    "ExecuteTime": {
     "end_time": "2023-09-20T17:54:05.643142Z",
     "start_time": "2023-09-20T17:54:04.521863Z"
    }
   },
   "outputs": [],
   "source": [
    "import torch\n",
    "from torch.utils.data import Dataset\n",
    "from torch.utils.data.dataloader import DataLoader\n",
    "from gqe.mingpt.utils import set_seed\n",
    "\n",
    "set_seed(31)"
   ]
  },
  {
   "cell_type": "code",
   "execution_count": 2,
   "outputs": [
    {
     "name": "stdout",
     "output_type": "stream",
     "text": [
      "converged SCF energy = -0.910873554594387\n",
      "Starting to parse FermionOperator using 4 qubits...\n",
      "\n",
      "Operator t:  -0.49178577730353756 [] +\n",
      "-0.0573839840149255 [X0 X1 Y2 Y3] +\n",
      "0.0573839840149255 [X0 Y1 Y2 X3] +\n",
      "0.0573839840149255 [Y0 X1 X2 Y3] +\n",
      "-0.0573839840149255 [Y0 Y1 X2 X3] +\n",
      "0.09345649667701589 [Z0] +\n",
      "0.13817584576560335 [Z0 Z1] +\n",
      "0.08253705488832763 [Z0 Z2] +\n",
      "0.13992103890325314 [Z0 Z3] +\n",
      "0.09345649667701589 [Z1] +\n",
      "0.13992103890325314 [Z1 Z2] +\n",
      "0.08253705488832763 [Z1 Z3] +\n",
      "-0.03564481621009516 [Z2] +\n",
      "0.1458551903009311 [Z2 Z3] +\n",
      "-0.035644816210095145 [Z3]\n",
      "Term, coeff:  () -0.49178577730353756\n",
      "Term, coeff:  ((0, 'Z'),) 0.09345649667701589\n",
      "Index, p_char:  0 Z\n",
      "Term, coeff:  ((1, 'Z'),) 0.09345649667701589\n",
      "Index, p_char:  1 Z\n",
      "Term, coeff:  ((2, 'Z'),) -0.03564481621009516\n",
      "Index, p_char:  2 Z\n",
      "Term, coeff:  ((3, 'Z'),) -0.035644816210095145\n",
      "Index, p_char:  3 Z\n",
      "Term, coeff:  ((0, 'Z'), (1, 'Z')) 0.13817584576560335\n",
      "Index, p_char:  0 Z\n",
      "Index, p_char:  1 Z\n",
      "Term, coeff:  ((0, 'Y'), (1, 'X'), (2, 'X'), (3, 'Y')) 0.0573839840149255\n",
      "Index, p_char:  0 Y\n",
      "Index, p_char:  1 X\n",
      "Index, p_char:  2 X\n",
      "Index, p_char:  3 Y\n",
      "Term, coeff:  ((0, 'Y'), (1, 'Y'), (2, 'X'), (3, 'X')) -0.0573839840149255\n",
      "Index, p_char:  0 Y\n",
      "Index, p_char:  1 Y\n",
      "Index, p_char:  2 X\n",
      "Index, p_char:  3 X\n",
      "Term, coeff:  ((0, 'X'), (1, 'X'), (2, 'Y'), (3, 'Y')) -0.0573839840149255\n",
      "Index, p_char:  0 X\n",
      "Index, p_char:  1 X\n",
      "Index, p_char:  2 Y\n",
      "Index, p_char:  3 Y\n",
      "Term, coeff:  ((0, 'X'), (1, 'Y'), (2, 'Y'), (3, 'X')) 0.0573839840149255\n",
      "Index, p_char:  0 X\n",
      "Index, p_char:  1 Y\n",
      "Index, p_char:  2 Y\n",
      "Index, p_char:  3 X\n",
      "Term, coeff:  ((0, 'Z'), (2, 'Z')) 0.08253705488832763\n",
      "Index, p_char:  0 Z\n",
      "Index, p_char:  2 Z\n",
      "Term, coeff:  ((0, 'Z'), (3, 'Z')) 0.13992103890325314\n",
      "Index, p_char:  0 Z\n",
      "Index, p_char:  3 Z\n",
      "Term, coeff:  ((1, 'Z'), (2, 'Z')) 0.13992103890325314\n",
      "Index, p_char:  1 Z\n",
      "Index, p_char:  2 Z\n",
      "Term, coeff:  ((1, 'Z'), (3, 'Z')) 0.08253705488832763\n",
      "Index, p_char:  1 Z\n",
      "Index, p_char:  3 Z\n",
      "Term, coeff:  ((2, 'Z'), (3, 'Z')) 0.1458551903009311\n",
      "Index, p_char:  2 Z\n",
      "Index, p_char:  3 Z\n",
      "paulis [+IXII, +IXZY, +IYZX, +XIII, +XXXY, +XXYX, +XYXX, +XYYY, +XZYI, +YXXX, +YXYY, +YYXY, +YYYX, +YZXI, +IIII]\n",
      "-0.9108735545943867\n"
     ]
    }
   ],
   "source": [
    "from qwrapper.operator import PauliObservable\n",
    "from gqe.mingpt.cost import EnergyCost\n",
    "from qswift.compiler import DefaultOperatorPool\n",
    "from benchmark.molecule import DiatomicMolecularHamiltonian\n",
    "from gqe.operator_pool.uccsd import UCCSD, generate_molecule\n",
    "from gqe.common.initializer import HFStateInitializer\n",
    "from gqe.mingpt.callback import DefaultCallback, PrintMonitor, FileMonitor\n",
    "\n",
    "#molecule = generate_molecule(\"H\", \"H\", 0.7414, \"sto-3g\")\n",
    "molecule = generate_molecule(\"H\", \"H\", 1.5, \"sto-3g\", bravyi_kitaev=False)\n",
    "nqubit = 4\n",
    "\n",
    "# prepare Hamiltonian\n",
    "hamiltonian = DiatomicMolecularHamiltonian(nqubit, molecule, bravyi_kitaev=False)\n",
    "\n",
    "# prepare operator_pool\n",
    "uccsd = UCCSD(nqubit, molecule)\n",
    "paulis = uccsd.paulis\n",
    "paulis.append(PauliObservable(\"IIII\"))\n",
    "print('paulis', paulis)\n",
    "num_operators = len(paulis)\n",
    "initializer = HFStateInitializer(n_electrons=2)\n",
    "pool = DefaultOperatorPool(paulis)\n",
    "cost = EnergyCost(hamiltonian, initializer, pool,\n",
    "                  [0.00625, -0.00625, 0.0125, -0.0125, 0.025, -0.025, 0.05,\n",
    "                   -0.05, 0.1, -0.1])\n",
    "print(hamiltonian.exact_value(initializer.init_circuit(4, [], \"qulacs\")))"
   ],
   "metadata": {
    "collapsed": false,
    "ExecuteTime": {
     "end_time": "2023-09-20T17:54:09.124393Z",
     "start_time": "2023-09-20T17:54:05.646982Z"
    }
   }
  },
  {
   "cell_type": "markdown",
   "source": [
    "## FCI energy by diagonalization"
   ],
   "metadata": {
    "collapsed": false
   }
  },
  {
   "cell_type": "code",
   "execution_count": 3,
   "outputs": [
    {
     "name": "stdout",
     "output_type": "stream",
     "text": [
      "-0.9981493534714105\n"
     ]
    }
   ],
   "source": [
    "from qwrapper.hamiltonian import compute_ground_state\n",
    "\n",
    "print(compute_ground_state(hamiltonian))"
   ],
   "metadata": {
    "collapsed": false,
    "ExecuteTime": {
     "end_time": "2023-09-20T17:54:09.130450Z",
     "start_time": "2023-09-20T17:54:09.126328Z"
    }
   }
  },
  {
   "cell_type": "markdown",
   "source": [
    "## Setup for GPT"
   ],
   "metadata": {
    "collapsed": false
   }
  },
  {
   "cell_type": "code",
   "execution_count": 4,
   "metadata": {
    "ExecuteTime": {
     "end_time": "2023-09-20T17:54:10.834766Z",
     "start_time": "2023-09-20T17:54:09.132037Z"
    }
   },
   "outputs": [
    {
     "name": "stdout",
     "output_type": "stream",
     "text": [
      "number of parameters: 85.29M\n"
     ]
    }
   ],
   "source": [
    "# create a GPT instance\n",
    "from gqe.mingpt.model import GPT\n",
    "\n",
    "model_config = GPT.get_default_config()\n",
    "model_config.model_type = 'gpt2'\n",
    "model_config.vocab_size = cost.vocab_size()\n",
    "model_config.block_size = cost.vocab_size()\n",
    "model_config.n_gates = 30  # The number of gates for each circuit\n",
    "model_config.temperature = 5  # Each gate is generated with probability exp(-temperature * logit)\n",
    "model_config.embd_pdrop = 0\n",
    "model_config.resid_pdrop = 0\n",
    "model_config.attn_pdrop = 0\n",
    "model = GPT(model_config, cost)"
   ]
  },
  {
   "cell_type": "code",
   "execution_count": 5,
   "metadata": {
    "ExecuteTime": {
     "end_time": "2023-09-20T17:54:10.842277Z",
     "start_time": "2023-09-20T17:54:10.837764Z"
    }
   },
   "outputs": [
    {
     "name": "stdout",
     "output_type": "stream",
     "text": [
      "running on device cpu\n"
     ]
    }
   ],
   "source": [
    "# create a Trainer object\n",
    "from gqe.mingpt.trainer import Trainer\n",
    "\n",
    "train_config = Trainer.get_default_config()\n",
    "train_config.learning_rate = 5e-7  # the model we're using is so small that we can go a bit faster\n",
    "train_config.max_iters = 2\n",
    "train_config.num_workers = 0\n",
    "train_config.n_samples = 5\n",
    "trainer = Trainer(train_config, model)"
   ]
  },
  {
   "cell_type": "markdown",
   "source": [],
   "metadata": {
    "collapsed": false
   }
  },
  {
   "cell_type": "code",
   "execution_count": 6,
   "metadata": {
    "ExecuteTime": {
     "end_time": "2023-09-20T17:54:37.918641Z",
     "start_time": "2023-09-20T17:54:10.846568Z"
    }
   },
   "outputs": [
    {
     "name": "stdout",
     "output_type": "stream",
     "text": [
      "iter_dt 0.00s; iter 0: train loss 0.82493 temperature: 5\n",
      "mean_logits tensor([-1.1689, -1.2591, -1.1869, -1.1736, -1.1192], grad_fn=<MulBackward0>)\n",
      "energies: tensor([-0.8855, -0.9064, -0.9053, -0.9339, -0.6590])\n",
      "mean: tensor(-0.8580)\n",
      "iter_dt 1695232464.32s; iter 1: train loss 0.14702 temperature: 5.05\n",
      "mean_logits tensor([-1.0082, -1.0967, -0.8968, -0.9323, -1.0482], grad_fn=<MulBackward0>)\n",
      "energies: tensor([-0.7904, -0.9416, -0.8972, -0.7697, -0.9206])\n",
      "mean: tensor(-0.8639)\n"
     ]
    }
   ],
   "source": [
    "file_monitor = FileMonitor()\n",
    "callback_generator = DefaultCallback(model, monitors=[PrintMonitor(), file_monitor])\n",
    "\n",
    "trainer.set_callback('on_batch_end', callback_generator.generate())\n",
    "trainer.run()\n",
    "torch.save(model.state_dict(), '../saved_models/gptqe_test_2')\n",
    "file_monitor.save('../output/test_batch.json')"
   ]
  },
  {
   "cell_type": "code",
   "execution_count": 7,
   "metadata": {
    "ExecuteTime": {
     "end_time": "2023-09-20T17:54:41.400904Z",
     "start_time": "2023-09-20T17:54:37.920503Z"
    }
   },
   "outputs": [
    {
     "name": "stdout",
     "output_type": "stream",
     "text": [
      "tensor([-0.8898])\n"
     ]
    }
   ],
   "source": [
    "indices, logits = model.generate(torch.tensor([[0]]), model_config.n_gates)\n",
    "print(cost.energy(indices))"
   ]
  },
  {
   "cell_type": "code",
   "execution_count": 8,
   "outputs": [
    {
     "ename": "RuntimeError",
     "evalue": "Error(s) in loading state_dict for GPT:\n\tsize mismatch for transformer.wte.weight: copying a param with shape torch.Size([144, 768]) from checkpoint, the shape in current model is torch.Size([150, 768]).\n\tsize mismatch for transformer.wpe.weight: copying a param with shape torch.Size([144, 768]) from checkpoint, the shape in current model is torch.Size([150, 768]).\n\tsize mismatch for transformer.h.0.attn.bias: copying a param with shape torch.Size([1, 1, 144, 144]) from checkpoint, the shape in current model is torch.Size([1, 1, 150, 150]).\n\tsize mismatch for transformer.h.1.attn.bias: copying a param with shape torch.Size([1, 1, 144, 144]) from checkpoint, the shape in current model is torch.Size([1, 1, 150, 150]).\n\tsize mismatch for transformer.h.2.attn.bias: copying a param with shape torch.Size([1, 1, 144, 144]) from checkpoint, the shape in current model is torch.Size([1, 1, 150, 150]).\n\tsize mismatch for transformer.h.3.attn.bias: copying a param with shape torch.Size([1, 1, 144, 144]) from checkpoint, the shape in current model is torch.Size([1, 1, 150, 150]).\n\tsize mismatch for transformer.h.4.attn.bias: copying a param with shape torch.Size([1, 1, 144, 144]) from checkpoint, the shape in current model is torch.Size([1, 1, 150, 150]).\n\tsize mismatch for transformer.h.5.attn.bias: copying a param with shape torch.Size([1, 1, 144, 144]) from checkpoint, the shape in current model is torch.Size([1, 1, 150, 150]).\n\tsize mismatch for transformer.h.6.attn.bias: copying a param with shape torch.Size([1, 1, 144, 144]) from checkpoint, the shape in current model is torch.Size([1, 1, 150, 150]).\n\tsize mismatch for transformer.h.7.attn.bias: copying a param with shape torch.Size([1, 1, 144, 144]) from checkpoint, the shape in current model is torch.Size([1, 1, 150, 150]).\n\tsize mismatch for transformer.h.8.attn.bias: copying a param with shape torch.Size([1, 1, 144, 144]) from checkpoint, the shape in current model is torch.Size([1, 1, 150, 150]).\n\tsize mismatch for transformer.h.9.attn.bias: copying a param with shape torch.Size([1, 1, 144, 144]) from checkpoint, the shape in current model is torch.Size([1, 1, 150, 150]).\n\tsize mismatch for transformer.h.10.attn.bias: copying a param with shape torch.Size([1, 1, 144, 144]) from checkpoint, the shape in current model is torch.Size([1, 1, 150, 150]).\n\tsize mismatch for transformer.h.11.attn.bias: copying a param with shape torch.Size([1, 1, 144, 144]) from checkpoint, the shape in current model is torch.Size([1, 1, 150, 150]).\n\tsize mismatch for lm_head.weight: copying a param with shape torch.Size([144, 768]) from checkpoint, the shape in current model is torch.Size([150, 768]).",
     "output_type": "error",
     "traceback": [
      "\u001B[0;31m---------------------------------------------------------------------------\u001B[0m",
      "\u001B[0;31mRuntimeError\u001B[0m                              Traceback (most recent call last)",
      "Cell \u001B[0;32mIn[8], line 3\u001B[0m\n\u001B[1;32m      1\u001B[0m model\u001B[38;5;241m.\u001B[39mtemperature \u001B[38;5;241m=\u001B[39m \u001B[38;5;241m20\u001B[39m\n\u001B[1;32m      2\u001B[0m \u001B[38;5;66;03m#model.load_state_dict(torch.load('../saved_models/gptqe_test_2'))\u001B[39;00m\n\u001B[0;32m----> 3\u001B[0m \u001B[43mmodel\u001B[49m\u001B[38;5;241;43m.\u001B[39;49m\u001B[43mload_state_dict\u001B[49m\u001B[43m(\u001B[49m\u001B[43mtorch\u001B[49m\u001B[38;5;241;43m.\u001B[39;49m\u001B[43mload\u001B[49m\u001B[43m(\u001B[49m\u001B[38;5;124;43m'\u001B[39;49m\u001B[38;5;124;43m../saved_models/gpt2_model_h2_sto3g_1.5_30_3047.json\u001B[39;49m\u001B[38;5;124;43m'\u001B[39;49m\u001B[43m)\u001B[49m\u001B[43m)\u001B[49m\n\u001B[1;32m      4\u001B[0m indices, logits \u001B[38;5;241m=\u001B[39m model\u001B[38;5;241m.\u001B[39mgenerate(torch\u001B[38;5;241m.\u001B[39mzeros(\u001B[38;5;241m10\u001B[39m, \u001B[38;5;241m1\u001B[39m, dtype\u001B[38;5;241m=\u001B[39mtorch\u001B[38;5;241m.\u001B[39mint), model_config\u001B[38;5;241m.\u001B[39mn_gates)\n\u001B[1;32m      5\u001B[0m cost\u001B[38;5;241m.\u001B[39msequence\u001B[38;5;241m.\u001B[39mtool \u001B[38;5;241m=\u001B[39m \u001B[38;5;124m\"\u001B[39m\u001B[38;5;124mqiskit\u001B[39m\u001B[38;5;124m\"\u001B[39m\n",
      "File \u001B[0;32m~/PycharmProjects/gqe/venv/lib/python3.8/site-packages/torch/nn/modules/module.py:1671\u001B[0m, in \u001B[0;36mModule.load_state_dict\u001B[0;34m(self, state_dict, strict)\u001B[0m\n\u001B[1;32m   1666\u001B[0m         error_msgs\u001B[38;5;241m.\u001B[39minsert(\n\u001B[1;32m   1667\u001B[0m             \u001B[38;5;241m0\u001B[39m, \u001B[38;5;124m'\u001B[39m\u001B[38;5;124mMissing key(s) in state_dict: \u001B[39m\u001B[38;5;132;01m{}\u001B[39;00m\u001B[38;5;124m. \u001B[39m\u001B[38;5;124m'\u001B[39m\u001B[38;5;241m.\u001B[39mformat(\n\u001B[1;32m   1668\u001B[0m                 \u001B[38;5;124m'\u001B[39m\u001B[38;5;124m, \u001B[39m\u001B[38;5;124m'\u001B[39m\u001B[38;5;241m.\u001B[39mjoin(\u001B[38;5;124m'\u001B[39m\u001B[38;5;124m\"\u001B[39m\u001B[38;5;132;01m{}\u001B[39;00m\u001B[38;5;124m\"\u001B[39m\u001B[38;5;124m'\u001B[39m\u001B[38;5;241m.\u001B[39mformat(k) \u001B[38;5;28;01mfor\u001B[39;00m k \u001B[38;5;129;01min\u001B[39;00m missing_keys)))\n\u001B[1;32m   1670\u001B[0m \u001B[38;5;28;01mif\u001B[39;00m \u001B[38;5;28mlen\u001B[39m(error_msgs) \u001B[38;5;241m>\u001B[39m \u001B[38;5;241m0\u001B[39m:\n\u001B[0;32m-> 1671\u001B[0m     \u001B[38;5;28;01mraise\u001B[39;00m \u001B[38;5;167;01mRuntimeError\u001B[39;00m(\u001B[38;5;124m'\u001B[39m\u001B[38;5;124mError(s) in loading state_dict for \u001B[39m\u001B[38;5;132;01m{}\u001B[39;00m\u001B[38;5;124m:\u001B[39m\u001B[38;5;130;01m\\n\u001B[39;00m\u001B[38;5;130;01m\\t\u001B[39;00m\u001B[38;5;132;01m{}\u001B[39;00m\u001B[38;5;124m'\u001B[39m\u001B[38;5;241m.\u001B[39mformat(\n\u001B[1;32m   1672\u001B[0m                        \u001B[38;5;28mself\u001B[39m\u001B[38;5;241m.\u001B[39m\u001B[38;5;18m__class__\u001B[39m\u001B[38;5;241m.\u001B[39m\u001B[38;5;18m__name__\u001B[39m, \u001B[38;5;124m\"\u001B[39m\u001B[38;5;130;01m\\n\u001B[39;00m\u001B[38;5;130;01m\\t\u001B[39;00m\u001B[38;5;124m\"\u001B[39m\u001B[38;5;241m.\u001B[39mjoin(error_msgs)))\n\u001B[1;32m   1673\u001B[0m \u001B[38;5;28;01mreturn\u001B[39;00m _IncompatibleKeys(missing_keys, unexpected_keys)\n",
      "\u001B[0;31mRuntimeError\u001B[0m: Error(s) in loading state_dict for GPT:\n\tsize mismatch for transformer.wte.weight: copying a param with shape torch.Size([144, 768]) from checkpoint, the shape in current model is torch.Size([150, 768]).\n\tsize mismatch for transformer.wpe.weight: copying a param with shape torch.Size([144, 768]) from checkpoint, the shape in current model is torch.Size([150, 768]).\n\tsize mismatch for transformer.h.0.attn.bias: copying a param with shape torch.Size([1, 1, 144, 144]) from checkpoint, the shape in current model is torch.Size([1, 1, 150, 150]).\n\tsize mismatch for transformer.h.1.attn.bias: copying a param with shape torch.Size([1, 1, 144, 144]) from checkpoint, the shape in current model is torch.Size([1, 1, 150, 150]).\n\tsize mismatch for transformer.h.2.attn.bias: copying a param with shape torch.Size([1, 1, 144, 144]) from checkpoint, the shape in current model is torch.Size([1, 1, 150, 150]).\n\tsize mismatch for transformer.h.3.attn.bias: copying a param with shape torch.Size([1, 1, 144, 144]) from checkpoint, the shape in current model is torch.Size([1, 1, 150, 150]).\n\tsize mismatch for transformer.h.4.attn.bias: copying a param with shape torch.Size([1, 1, 144, 144]) from checkpoint, the shape in current model is torch.Size([1, 1, 150, 150]).\n\tsize mismatch for transformer.h.5.attn.bias: copying a param with shape torch.Size([1, 1, 144, 144]) from checkpoint, the shape in current model is torch.Size([1, 1, 150, 150]).\n\tsize mismatch for transformer.h.6.attn.bias: copying a param with shape torch.Size([1, 1, 144, 144]) from checkpoint, the shape in current model is torch.Size([1, 1, 150, 150]).\n\tsize mismatch for transformer.h.7.attn.bias: copying a param with shape torch.Size([1, 1, 144, 144]) from checkpoint, the shape in current model is torch.Size([1, 1, 150, 150]).\n\tsize mismatch for transformer.h.8.attn.bias: copying a param with shape torch.Size([1, 1, 144, 144]) from checkpoint, the shape in current model is torch.Size([1, 1, 150, 150]).\n\tsize mismatch for transformer.h.9.attn.bias: copying a param with shape torch.Size([1, 1, 144, 144]) from checkpoint, the shape in current model is torch.Size([1, 1, 150, 150]).\n\tsize mismatch for transformer.h.10.attn.bias: copying a param with shape torch.Size([1, 1, 144, 144]) from checkpoint, the shape in current model is torch.Size([1, 1, 150, 150]).\n\tsize mismatch for transformer.h.11.attn.bias: copying a param with shape torch.Size([1, 1, 144, 144]) from checkpoint, the shape in current model is torch.Size([1, 1, 150, 150]).\n\tsize mismatch for lm_head.weight: copying a param with shape torch.Size([144, 768]) from checkpoint, the shape in current model is torch.Size([150, 768])."
     ]
    }
   ],
   "source": [
    "model.temperature = 20\n",
    "#model.load_state_dict(torch.load('../saved_models/gptqe_test_2'))\n",
    "model.load_state_dict(torch.load('../saved_models/gpt2_model_h2_sto3g_1.5_30_3047.json'))\n",
    "indices, logits = model.generate(torch.zeros(10, 1, dtype=torch.int), model_config.n_gates)\n",
    "cost.sequence.tool = \"qiskit\"\n",
    "index = torch.argmin(cost.energy(indices)).item()"
   ],
   "metadata": {
    "collapsed": false,
    "ExecuteTime": {
     "end_time": "2023-09-20T17:54:41.756420Z",
     "start_time": "2023-09-20T17:54:41.340621Z"
    }
   }
  },
  {
   "cell_type": "code",
   "execution_count": null,
   "outputs": [],
   "source": [
    "target = indices.numpy()[index]\n",
    "print(cost.energy(torch.tensor([target])))\n",
    "print(target)\n",
    "cost.sequence._get_circuit(target).qc.draw(output=\"mpl\", plot_barriers=True)"
   ],
   "metadata": {
    "collapsed": false
   }
  },
  {
   "cell_type": "code",
   "execution_count": null,
   "outputs": [],
   "source": [],
   "metadata": {
    "collapsed": false
   }
  }
 ],
 "metadata": {
  "kernelspec": {
   "display_name": "Python 3.10.4 64-bit",
   "language": "python",
   "name": "python3"
  },
  "language_info": {
   "codemirror_mode": {
    "name": "ipython",
    "version": 3
   },
   "file_extension": ".py",
   "mimetype": "text/x-python",
   "name": "python",
   "nbconvert_exporter": "python",
   "pygments_lexer": "ipython3",
   "version": "3.10.4"
  },
  "orig_nbformat": 4,
  "vscode": {
   "interpreter": {
    "hash": "3ad933181bd8a04b432d3370b9dc3b0662ad032c4dfaa4e4f1596c548f763858"
   }
  }
 },
 "nbformat": 4,
 "nbformat_minor": 2
}
