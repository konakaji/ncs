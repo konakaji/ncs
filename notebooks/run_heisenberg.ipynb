{
 "cells": [
  {
   "cell_type": "code",
   "execution_count": 18,
   "metadata": {
    "collapsed": true,
    "ExecuteTime": {
     "end_time": "2023-08-07T20:53:51.185107Z",
     "start_time": "2023-08-07T20:53:51.169511Z"
    }
   },
   "outputs": [],
   "source": [
    "import random\n",
    "\n",
    "from qwrapper.obs import PauliObservable\n",
    "from qwrapper.hamiltonian import HeisenbergModel, compute_ground_state\n",
    "from qwrapper.optimizer import AdamOptimizer, UnitLRScheduler, PrintMonitor, FileMonitor\n",
    "from qswift.initializer import XBasisInitializer\n",
    "from gqe.simple_model.model import SimpleModel, Ansatz\n",
    "from gqe.energy_estimator.iid import IIDEstimator"
   ]
  },
  {
   "cell_type": "code",
   "execution_count": 19,
   "outputs": [],
   "source": [
    "# The file path, where the model is saved\n",
    "OUTPUT_FILENAME = '../saved_models/model_three.json'"
   ],
   "metadata": {
    "collapsed": false,
    "ExecuteTime": {
     "end_time": "2023-08-07T20:53:51.185369Z",
     "start_time": "2023-08-07T20:53:51.173755Z"
    }
   }
  },
  {
   "cell_type": "code",
   "execution_count": 20,
   "outputs": [],
   "source": [
    "N = 8000\n",
    "n_sample = 1000\n",
    "lam = 15\n",
    "nqubit = 3"
   ],
   "metadata": {
    "collapsed": false,
    "ExecuteTime": {
     "end_time": "2023-08-07T20:53:51.185427Z",
     "start_time": "2023-08-07T20:53:51.177632Z"
    }
   }
  },
  {
   "cell_type": "markdown",
   "source": [
    "# Hamiltonian and its theoretical ground state energy"
   ],
   "metadata": {
    "collapsed": false
   }
  },
  {
   "cell_type": "code",
   "execution_count": 21,
   "outputs": [
    {
     "name": "stdout",
     "output_type": "stream",
     "text": [
      "-3.0000000000000004\n"
     ]
    }
   ],
   "source": [
    "hamiltonian = HeisenbergModel(nqubit)\n",
    "print(compute_ground_state(hamiltonian))"
   ],
   "metadata": {
    "collapsed": false,
    "ExecuteTime": {
     "end_time": "2023-08-07T20:53:51.195656Z",
     "start_time": "2023-08-07T20:53:51.181957Z"
    }
   }
  },
  {
   "cell_type": "markdown",
   "source": [
    "# Initialize the operator pool\n",
    "We define the set of operators $\\{O_j\\}$. Then, each gate has the form $e^{i\\theta_j O_j}$. The parameters are initialized by the gaussian distribution."
   ],
   "metadata": {
    "collapsed": false
   }
  },
  {
   "cell_type": "code",
   "execution_count": 22,
   "outputs": [],
   "source": [
    "ansatz = Ansatz([random.gauss(0, 0.5) for _ in range(18)],\n",
    "                [\n",
    "                    PauliObservable(\"XII\"), PauliObservable(\"YII\"), PauliObservable(\"ZII\"),\n",
    "                    PauliObservable(\"IXI\"), PauliObservable(\"IYI\"), PauliObservable(\"IZI\"),\n",
    "                    PauliObservable(\"IIX\"), PauliObservable(\"IIY\"), PauliObservable(\"IIZ\"),\n",
    "                    PauliObservable(\"XXI\"), PauliObservable(\"YYI\"), PauliObservable(\"ZZI\"),\n",
    "                    PauliObservable(\"IXX\"), PauliObservable(\"IYY\"), PauliObservable(\"IZZ\"),\n",
    "                    PauliObservable(\"XIX\"), PauliObservable(\"YIY\"), PauliObservable(\"ZIZ\"),\n",
    "                ], nqubit=nqubit)"
   ],
   "metadata": {
    "collapsed": false,
    "ExecuteTime": {
     "end_time": "2023-08-07T20:53:51.195788Z",
     "start_time": "2023-08-07T20:53:51.188159Z"
    }
   }
  },
  {
   "cell_type": "markdown",
   "source": [
    "# Initialize Energy Estimator\n",
    "- The module calculates the expectation value of the Hamiltonian and its gradient for each parameter, assuming that the gate at each position is generated from an i.i.d. distribution..\n",
    "- XBasisInitializer determines the initial quantum state before applying the generated quantum gates."
   ],
   "metadata": {
    "collapsed": false
   }
  },
  {
   "cell_type": "code",
   "execution_count": 23,
   "outputs": [],
   "source": [
    "estimator = IIDEstimator(hamiltonian,\n",
    "                         XBasisInitializer(),\n",
    "                         N, K=0, tool='qulacs', n_sample=n_sample, n_grad_sample=1)"
   ],
   "metadata": {
    "collapsed": false,
    "ExecuteTime": {
     "end_time": "2023-08-07T20:53:51.195836Z",
     "start_time": "2023-08-07T20:53:51.192837Z"
    }
   }
  },
  {
   "cell_type": "markdown",
   "source": [
    "# Perform simple Model optimization\n",
    "The model generate the sequence of gates, calculate the gradient, and update the parameters."
   ],
   "metadata": {
    "collapsed": false
   }
  },
  {
   "cell_type": "code",
   "execution_count": 24,
   "outputs": [
    {
     "name": "stdout",
     "output_type": "stream",
     "text": [
      "0 -1.2564280749310954\n",
      "1 -1.3874472650429124\n",
      "2 -1.5012308593418489\n",
      "3 -1.6114054000765003\n",
      "4 -1.7189128848734576\n",
      "5 -1.8166824983959553\n",
      "6 -1.9070601017330802\n",
      "7 -1.9946352440392798\n",
      "8 -2.0790125955542487\n",
      "9 -2.1576404939612175\n",
      "10 -2.2290659650806797\n",
      "11 -2.2982799349064678\n",
      "12 -2.3633186688399266\n",
      "13 -2.4237700147792935\n",
      "14 -2.480002752755099\n",
      "15 -2.5332974218325326\n",
      "16 -2.5798724970505713\n",
      "17 -2.620400239086182\n",
      "18 -2.6554751275826622\n",
      "19 -2.687069175782568\n",
      "20 -2.7126519071164674\n",
      "21 -2.737255566714644\n",
      "22 -2.7592735274609366\n",
      "23 -2.777454217194399\n",
      "24 -2.793775001349224\n",
      "25 -2.8082492706086857\n",
      "26 -2.8212162411260966\n",
      "27 -2.8331181431286767\n",
      "28 -2.8449984160811206\n",
      "29 -2.8564076247578343\n",
      "30 -2.8671285540355917\n",
      "31 -2.878012514509415\n",
      "32 -2.8881757181487053\n",
      "33 -2.897390036657804\n",
      "34 -2.9055253213279335\n",
      "35 -2.913490278061447\n",
      "36 -2.9207001904784855\n",
      "37 -2.9277036752210304\n",
      "38 -2.9340417084358887\n",
      "39 -2.939942888437273\n",
      "40 -2.9454250749584165\n",
      "41 -2.9502481021763125\n",
      "42 -2.954926155784297\n",
      "43 -2.959661588095085\n",
      "44 -2.9637856558105096\n",
      "45 -2.967705548319529\n",
      "46 -2.9712115810032635\n",
      "47 -2.9743582730715943\n",
      "48 -2.9772135751652917\n",
      "49 -2.9797768879395274\n",
      "50 -2.9821070487164896\n",
      "51 -2.9841218591700036\n",
      "52 -2.9857374094969114\n",
      "53 -2.987244717212549\n",
      "54 -2.9886437883825305\n",
      "55 -2.9896938779272046\n",
      "56 -2.990706620055141\n",
      "57 -2.9914193600164527\n",
      "58 -2.9918469218340094\n",
      "59 -2.9922434611644313\n",
      "60 -2.9926409960129243\n",
      "61 -2.9932730415591537\n",
      "62 -2.9937490704010363\n",
      "63 -2.9941264783360646\n",
      "64 -2.9948114163345005\n",
      "65 -2.9954895859547537\n",
      "66 -2.996126999542191\n",
      "67 -2.9965192942798424\n",
      "68 -2.9970153474045107\n",
      "69 -2.997410220281613\n",
      "70 -2.997761373641801\n",
      "71 -2.998178936116198\n",
      "72 -2.99857930174346\n",
      "73 -2.9988530275082597\n",
      "74 -2.999128273610234\n",
      "75 -2.999172198757573\n",
      "76 -2.9990418758511144\n",
      "77 -2.9986772051288053\n",
      "78 -2.997945835467376\n",
      "79 -2.996969831824\n",
      "80 -2.9961618982654303\n",
      "81 -2.9953511496602543\n",
      "82 -2.9948205893830555\n",
      "83 -2.9944850665738425\n",
      "84 -2.993881799460076\n",
      "85 -2.993349043362369\n",
      "86 -2.9927702173162753\n",
      "87 -2.9923299114143544\n",
      "88 -2.992217114762637\n",
      "89 -2.992426738382857\n",
      "90 -2.992937224172281\n",
      "91 -2.9937043495110767\n",
      "92 -2.994490708972429\n",
      "93 -2.994942818148197\n",
      "94 -2.99535376893774\n",
      "95 -2.9956715070976374\n",
      "96 -2.9959663595768307\n",
      "97 -2.9962733472895104\n",
      "98 -2.9963065469708763\n",
      "99 -2.996112282161227\n"
     ]
    }
   ],
   "source": [
    "model = SimpleModel(estimator, ansatz, N, lam, n_sample)\n",
    "monitors = [PrintMonitor(), FileMonitor('../output/energy.txt')]\n",
    "model.run(AdamOptimizer(maxiter=100, scheduler=UnitLRScheduler(0.01), monitors=monitors))\n",
    "for m in monitors:\n",
    "    m.finalize()\n",
    "with open(OUTPUT_FILENAME, 'w') as f:\n",
    "    f.write(model.ansatz.toJSON())"
   ],
   "metadata": {
    "collapsed": false,
    "ExecuteTime": {
     "end_time": "2023-08-07T21:01:32.571696Z",
     "start_time": "2023-08-07T20:53:51.198121Z"
    }
   }
  }
 ],
 "metadata": {
  "kernelspec": {
   "display_name": "Python 3",
   "language": "python",
   "name": "python3"
  },
  "language_info": {
   "codemirror_mode": {
    "name": "ipython",
    "version": 2
   },
   "file_extension": ".py",
   "mimetype": "text/x-python",
   "name": "python",
   "nbconvert_exporter": "python",
   "pygments_lexer": "ipython2",
   "version": "2.7.6"
  }
 },
 "nbformat": 4,
 "nbformat_minor": 0
}
