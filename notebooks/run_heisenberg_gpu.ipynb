{
 "cells": [
  {
   "cell_type": "code",
   "execution_count": 1,
   "metadata": {},
   "outputs": [],
   "source": [
    "import sys\n",
    "sys.path.append(\"../\")"
   ]
  },
  {
   "cell_type": "code",
   "execution_count": 5,
   "metadata": {
    "ExecuteTime": {
     "end_time": "2023-08-07T20:53:51.185107Z",
     "start_time": "2023-08-07T20:53:51.169511Z"
    },
    "collapsed": true
   },
   "outputs": [],
   "source": [
    "import random\n",
    "\n",
    "from qwrapper.obs import PauliObservable\n",
    "from qwrapper.hamiltonian import HeisenbergModel, compute_ground_state\n",
    "from qwrapper.optimizer import AdamOptimizer,AdamOptimizerGPU, UnitLRScheduler, PrintMonitor, FileMonitor\n",
    "from qswift.initializer import XBasisInitializer\n",
    "from gqe.simple_model.model import SimpleModel, Ansatz\n",
    "from gqe.energy_estimator.iid import IIDEstimator"
   ]
  },
  {
   "cell_type": "code",
   "execution_count": 6,
   "metadata": {
    "ExecuteTime": {
     "end_time": "2023-08-07T20:53:51.185369Z",
     "start_time": "2023-08-07T20:53:51.173755Z"
    },
    "collapsed": false
   },
   "outputs": [],
   "source": [
    "# The file path, where the model is saved\n",
    "OUTPUT_FILENAME = '../saved_models/model_three.json'"
   ]
  },
  {
   "cell_type": "code",
   "execution_count": 7,
   "metadata": {
    "ExecuteTime": {
     "end_time": "2023-08-07T20:53:51.185427Z",
     "start_time": "2023-08-07T20:53:51.177632Z"
    },
    "collapsed": false
   },
   "outputs": [],
   "source": [
    "N = 8000\n",
    "n_sample = 1000\n",
    "lam = 15\n",
    "nqubit = 3"
   ]
  },
  {
   "cell_type": "markdown",
   "metadata": {
    "collapsed": false
   },
   "source": [
    "# Hamiltonian and its theoretical ground state energy"
   ]
  },
  {
   "cell_type": "code",
   "execution_count": 8,
   "metadata": {
    "ExecuteTime": {
     "end_time": "2023-08-07T20:53:51.195656Z",
     "start_time": "2023-08-07T20:53:51.181957Z"
    },
    "collapsed": false
   },
   "outputs": [
    {
     "name": "stdout",
     "output_type": "stream",
     "text": [
      "-3.0000000000000004\n"
     ]
    }
   ],
   "source": [
    "hamiltonian = HeisenbergModel(nqubit)\n",
    "print(compute_ground_state(hamiltonian))"
   ]
  },
  {
   "cell_type": "markdown",
   "metadata": {
    "collapsed": false
   },
   "source": [
    "# Initialize the operator pool\n",
    "We define the set of operators $\\{O_j\\}$. Then, each gate has the form $e^{i\\theta_j O_j}$. The parameters are initialized by the gaussian distribution."
   ]
  },
  {
   "cell_type": "code",
   "execution_count": 9,
   "metadata": {
    "ExecuteTime": {
     "end_time": "2023-08-07T20:53:51.195788Z",
     "start_time": "2023-08-07T20:53:51.188159Z"
    },
    "collapsed": false
   },
   "outputs": [],
   "source": [
    "ansatz = Ansatz([random.gauss(0, 0.5) for _ in range(18)],\n",
    "                [\n",
    "                    PauliObservable(\"XII\"), PauliObservable(\"YII\"), PauliObservable(\"ZII\"),\n",
    "                    PauliObservable(\"IXI\"), PauliObservable(\"IYI\"), PauliObservable(\"IZI\"),\n",
    "                    PauliObservable(\"IIX\"), PauliObservable(\"IIY\"), PauliObservable(\"IIZ\"),\n",
    "                    PauliObservable(\"XXI\"), PauliObservable(\"YYI\"), PauliObservable(\"ZZI\"),\n",
    "                    PauliObservable(\"IXX\"), PauliObservable(\"IYY\"), PauliObservable(\"IZZ\"),\n",
    "                    PauliObservable(\"XIX\"), PauliObservable(\"YIY\"), PauliObservable(\"ZIZ\"),\n",
    "                ], nqubit=nqubit)"
   ]
  },
  {
   "cell_type": "markdown",
   "metadata": {
    "collapsed": false
   },
   "source": [
    "# Initialize Energy Estimator\n",
    "- The module calculates the expectation value of the Hamiltonian and its gradient for each parameter, assuming that the gate at each position is generated from an i.i.d. distribution..\n",
    "- XBasisInitializer determines the initial quantum state before applying the generated quantum gates."
   ]
  },
  {
   "cell_type": "code",
   "execution_count": 11,
   "metadata": {},
   "outputs": [],
   "source": [
    "estimator = IIDEstimator(hamiltonian,\n",
    "                         XBasisInitializer(),\n",
    "                         N, K=0, tool='qulacs-gpu', n_sample=n_sample, n_grad_sample=1)"
   ]
  },
  {
   "cell_type": "markdown",
   "metadata": {
    "collapsed": false
   },
   "source": [
    "# Perform simple Model optimization\n",
    "The model generate the sequence of gates, calculate the gradient, and update the parameters."
   ]
  },
  {
   "cell_type": "code",
   "execution_count": 12,
   "metadata": {
    "ExecuteTime": {
     "end_time": "2023-08-07T21:01:32.571696Z",
     "start_time": "2023-08-07T20:53:51.198121Z"
    },
    "collapsed": false
   },
   "outputs": [
    {
     "name": "stdout",
     "output_type": "stream",
     "text": [
      "0 0.8849647183622495\n",
      "1 0.7440626743392483\n",
      "2 0.6010760924468654\n",
      "3 0.4569139188198652\n",
      "4 0.3151411102944675\n",
      "5 0.17965005373359075\n",
      "6 0.03854695840076067\n",
      "7 -0.10196219441771609\n",
      "8 -0.23730036120844417\n",
      "9 -0.3709895454561515\n",
      "10 -0.5013484279310048\n",
      "11 -0.624328757454928\n",
      "12 -0.7447007593362963\n",
      "13 -0.8561682673311874\n",
      "14 -0.9638746265435083\n",
      "15 -1.0612308198145373\n",
      "16 -1.15556983116814\n",
      "17 -1.2446230982382085\n",
      "18 -1.3267756587061372\n",
      "19 -1.4016791193758524\n",
      "20 -1.4693122614874738\n",
      "21 -1.5333531634482884\n",
      "22 -1.5968558470015393\n",
      "23 -1.6571450396072358\n",
      "24 -1.7137738552645718\n",
      "25 -1.7680806074916833\n",
      "26 -1.8202254001224094\n",
      "27 -1.8728126515588772\n",
      "28 -1.9225040094724446\n",
      "29 -1.9717575343551093\n",
      "30 -2.0193070400245166\n",
      "31 -2.067155644413165\n",
      "32 -2.113797118733145\n",
      "33 -2.1590166138995626\n",
      "34 -2.204999247206332\n",
      "35 -2.250318245816521\n",
      "36 -2.29583108911939\n",
      "37 -2.341035568757426\n",
      "38 -2.386254114481071\n",
      "39 -2.4293275088744957\n",
      "40 -2.4694399391315924\n",
      "41 -2.5083479006164024\n",
      "42 -2.5462998108116066\n",
      "43 -2.583498725783288\n",
      "44 -2.6186480832653696\n",
      "45 -2.652605595222667\n",
      "46 -2.685202100855599\n",
      "47 -2.715657456268765\n",
      "48 -2.743280520534343\n",
      "49 -2.768910189270107\n",
      "50 -2.7926032057366452\n",
      "51 -2.813795484800824\n",
      "52 -2.832959497613211\n",
      "53 -2.849969289448448\n",
      "54 -2.865622012300076\n",
      "55 -2.8797519398655007\n",
      "56 -2.8918868565851747\n",
      "57 -2.9022312380236626\n",
      "58 -2.9109114510255107\n",
      "59 -2.918629953398917\n",
      "60 -2.925447560763197\n",
      "61 -2.931475483378387\n",
      "62 -2.9370681697919707\n",
      "63 -2.9418220265843473\n",
      "64 -2.9457774341341545\n",
      "65 -2.948564581263727\n",
      "66 -2.9508651137667643\n",
      "67 -2.9525228495264955\n",
      "68 -2.95416807624785\n",
      "69 -2.95577544574323\n",
      "70 -2.9574736227462686\n",
      "71 -2.959073756541886\n",
      "72 -2.960820140751547\n",
      "73 -2.9622824064997575\n",
      "74 -2.963989752927341\n",
      "75 -2.9656849512845587\n",
      "76 -2.9674622042305305\n",
      "77 -2.969155444618103\n",
      "78 -2.971042273587007\n",
      "79 -2.9729812609214434\n",
      "80 -2.9748414434224113\n",
      "81 -2.9766332675370153\n",
      "82 -2.9785059941201686\n",
      "83 -2.9805166387416153\n",
      "84 -2.9822447283978324\n",
      "85 -2.9838717593028035\n",
      "86 -2.985452271019195\n",
      "87 -2.9871041934993494\n",
      "88 -2.9885721504062577\n",
      "89 -2.9899115391055684\n",
      "90 -2.99105268334802\n",
      "91 -2.9920998530971623\n",
      "92 -2.9929817320326553\n",
      "93 -2.9936479203474295\n",
      "94 -2.9942044105485026\n",
      "95 -2.9947415643315836\n",
      "96 -2.9952309080138155\n",
      "97 -2.9956630356030765\n",
      "98 -2.996096730137438\n",
      "99 -2.996470151729837\n"
     ]
    }
   ],
   "source": [
    "model = SimpleModel(estimator, ansatz, N, lam, tool=\"qulacs-gpu\")\n",
    "monitors = [PrintMonitor(), FileMonitor('output/energy.txt')]\n",
    "model.run(AdamOptimizerGPU(maxiter=100, scheduler=UnitLRScheduler(0.01), monitors=monitors,device=\"cuda\"))\n"
   ]
  },
  {
   "cell_type": "code",
   "execution_count": null,
   "metadata": {},
   "outputs": [],
   "source": [
    "for m in monitors:\n",
    "    m.finalize()\n",
    "with open(OUTPUT_FILENAME, 'w') as f:\n",
    "    f.write(model.ansatz.toJSON())"
   ]
  }
 ],
 "metadata": {
  "kernelspec": {
   "display_name": "Python 3",
   "language": "python",
   "name": "python3"
  },
  "language_info": {
   "codemirror_mode": {
    "name": "ipython",
    "version": 3
   },
   "file_extension": ".py",
   "mimetype": "text/x-python",
   "name": "python",
   "nbconvert_exporter": "python",
   "pygments_lexer": "ipython3",
   "version": "3.10.12"
  }
 },
 "nbformat": 4,
 "nbformat_minor": 0
}
