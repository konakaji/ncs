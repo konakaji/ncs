{
 "cells": [
  {
   "cell_type": "markdown",
   "source": [
    "# GQE with H2 Hamiltonian, STO-3G basis (4-qubits)\n",
    "## Settings"
   ],
   "metadata": {
    "collapsed": false
   }
  },
  {
   "cell_type": "code",
   "execution_count": 5,
   "metadata": {
    "collapsed": true,
    "ExecuteTime": {
     "end_time": "2023-09-29T22:51:19.522240Z",
     "start_time": "2023-09-29T22:51:19.518350Z"
    }
   },
   "outputs": [],
   "source": [
    "from benchmark.molecule import DiatomicMolecularHamiltonian\n",
    "from gqe.operator_pool.uccsd import UCCSD, generate_molecule\n",
    "\n",
    "N = 8000\n",
    "n_sample = 1000\n",
    "iter = 1000\n",
    "lam = 30\n",
    "nqubit = 4\n",
    "seed = 300\n",
    "distances = [0.5, 0.6, 0.7, 0.7414, 0.8, 0.9, 1.0, 1.5, 2.0]  # choices of the distance between two atoms"
   ]
  },
  {
   "cell_type": "markdown",
   "source": [
    "## Define the experiment function"
   ],
   "metadata": {
    "collapsed": false
   }
  },
  {
   "cell_type": "code",
   "execution_count": 6,
   "outputs": [],
   "source": [
    "import random, json, os, torch\n",
    "import numpy as np\n",
    "\n",
    "from qwrapper.hamiltonian import compute_ground_state\n",
    "from qwrapper.optimizer import AdamOptimizer, UnitLRScheduler, PrintMonitor, FileMonitor\n",
    "from gqe.common.initializer import HFStateInitializer\n",
    "from gqe.simple_model.model import SimpleModel, Ansatz\n",
    "from gqe.energy_estimator.iid import IIDEstimator\n",
    "\n",
    "MODEL_FILEBASE = '../saved_models/model_h2_sto3g_{}_{}.json'\n",
    "ENERGY_FILEBASE = '../output/energy_h2_sto3g_{}_{}.txt'\n",
    "OTHER_FILEBASE = '../output/other_h2_sto3g_{}_{}.json'\n",
    "\n",
    "\n",
    "def find_ground_state_energy(distance, seed, ignore_cache=False):\n",
    "    random.seed(seed)\n",
    "    np.random.seed(seed)\n",
    "    torch.manual_seed(seed)\n",
    "    torch.cuda.manual_seed_all(seed)\n",
    "\n",
    "    molecule = generate_molecule(\"H\", \"H\", distance, \"sto-3g\")\n",
    "    # prepare file\n",
    "    model_output = MODEL_FILEBASE.format(str(distance), seed)\n",
    "    energy_output = ENERGY_FILEBASE.format(str(distance), seed)\n",
    "    other_output = OTHER_FILEBASE.format(str(distance), seed)\n",
    "\n",
    "    if not ignore_cache and os.path.exists(model_output):\n",
    "        return\n",
    "\n",
    "    # prepare Hamiltonian\n",
    "    hamiltonian = DiatomicMolecularHamiltonian(nqubit, molecule)\n",
    "\n",
    "    ge = compute_ground_state(hamiltonian)\n",
    "    print(\"ground state:\", ge)\n",
    "\n",
    "    # prepare operator_pool\n",
    "    uccsd = UCCSD(4, molecule)\n",
    "    paulis = uccsd.paulis\n",
    "    num_operators = len(paulis)\n",
    "    ansatz = Ansatz([random.gauss(0, 1) for _ in range(num_operators)],\n",
    "                    paulis, nqubit=nqubit)\n",
    "\n",
    "    # prepare simple model\n",
    "    estimator = IIDEstimator(hamiltonian,\n",
    "                             HFStateInitializer(n_electrons=2),\n",
    "                             N, K=0, tool='qulacs', n_sample=n_sample, n_grad_sample=1)\n",
    "    model = SimpleModel(estimator, ansatz, N, lam, n_sample)\n",
    "    file_monitor = FileMonitor(energy_output)\n",
    "\n",
    "    monitors = [PrintMonitor(), file_monitor]\n",
    "\n",
    "    # run\n",
    "    model.run(AdamOptimizer(maxiter=iter, scheduler=UnitLRScheduler(0.01), monitors=monitors))\n",
    "    for m in monitors:\n",
    "        m.finalize()\n",
    "\n",
    "    with open(model_output, 'w') as f:\n",
    "        f.write(model.ansatz.toJSON())\n",
    "\n",
    "    final_energy = file_monitor.values[len(file_monitor.values) - 1][1]\n",
    "\n",
    "    m = {\"distance\": distance,\n",
    "         \"exact_energy\": ge,\n",
    "         \"computed_energy\": final_energy,\n",
    "         \"n_gates\": N, \"lam\": lam, \"seed\": seed}\n",
    "    with open(other_output, \"w\") as f:\n",
    "        f.write(json.dumps(m))\n"
   ],
   "metadata": {
    "collapsed": false,
    "ExecuteTime": {
     "end_time": "2023-09-29T22:51:19.535085Z",
     "start_time": "2023-09-29T22:51:19.531141Z"
    }
   }
  },
  {
   "cell_type": "code",
   "execution_count": null,
   "outputs": [
    {
     "name": "stdout",
     "output_type": "stream",
     "text": [
      "converged SCF energy = -1.0429962745401\n",
      "ground state: -1.0551597944706248\n",
      "skipped\n",
      "skipped\n",
      "skipped\n",
      "skipped\n",
      "skipped\n",
      "skipped\n",
      "skipped\n",
      "skipped\n",
      "0 0.12915951460302638\n",
      "1 0.10645911903438735\n",
      "2 0.08416008655462673\n",
      "3 0.06285620385500891\n",
      "4 0.04287235783722425\n",
      "5 0.022314290113956095\n",
      "6 0.002344198761618385\n",
      "7 -0.017654556890005904\n",
      "8 -0.03714248811869375\n",
      "9 -0.05774063067373873\n",
      "10 -0.07960804563117813\n",
      "11 -0.10251626091943031\n"
     ]
    }
   ],
   "source": [
    "for d in distances:\n",
    "    find_ground_state_energy(d, seed, ignore_cache=False)"
   ],
   "metadata": {
    "collapsed": false,
    "ExecuteTime": {
     "start_time": "2023-09-29T22:51:19.534312Z"
    }
   }
  },
  {
   "cell_type": "code",
   "execution_count": null,
   "outputs": [],
   "source": [
    "min_d = distances[0]\n",
    "max_d = distances[len(distances) - 1]\n",
    "n_bin = 100\n",
    "\n",
    "xs = []\n",
    "ys = []\n",
    "for j in range(n_bin):\n",
    "    d = min_d + (max_d - min_d) / (n_bin - 1) * j\n",
    "    molecule = generate_molecule(\"H\", \"H\", d, \"sto-3g\")\n",
    "    hamiltonian = DiatomicMolecularHamiltonian(nqubit, molecule)\n",
    "    ge = compute_ground_state(hamiltonian)\n",
    "    xs.append(d)\n",
    "    ys.append(ge)"
   ],
   "metadata": {
    "collapsed": false
   }
  },
  {
   "cell_type": "code",
   "execution_count": null,
   "outputs": [],
   "source": [
    "\n",
    "xs2 = []\n",
    "ys2 = []\n",
    "\n",
    "for d in distances:\n",
    "    xs2.append(d)\n",
    "    with open(OTHER_FILEBASE.format(d, seed)) as f:\n",
    "        ys2.append(json.loads(f.readline())['computed_energy'])"
   ],
   "metadata": {
    "collapsed": false
   }
  },
  {
   "cell_type": "code",
   "execution_count": null,
   "outputs": [],
   "source": [
    "import matplotlib.pyplot as p\n",
    "\n",
    "p.grid('-')\n",
    "p.plot(xs, ys, label='exact', linewidth=2, color='gray')\n",
    "p.plot(xs2, ys2, label='computed', marker='x', linewidth=0, color='green')\n",
    "p.xlabel('bond length (angstrom)')\n",
    "p.ylabel('energy value (Hartree)')\n",
    "p.title('GQE result with H2 Hamiltonian (sto-3g basis)')\n",
    "p.legend()\n",
    "p.show()"
   ],
   "metadata": {
    "collapsed": false
   }
  }
 ],
 "metadata": {
  "kernelspec": {
   "display_name": "Python 3",
   "language": "python",
   "name": "python3"
  },
  "language_info": {
   "codemirror_mode": {
    "name": "ipython",
    "version": 2
   },
   "file_extension": ".py",
   "mimetype": "text/x-python",
   "name": "python",
   "nbconvert_exporter": "python",
   "pygments_lexer": "ipython2",
   "version": "2.7.6"
  }
 },
 "nbformat": 4,
 "nbformat_minor": 0
}
