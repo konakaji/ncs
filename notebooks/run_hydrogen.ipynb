{
 "cells": [
  {
   "cell_type": "code",
   "execution_count": 1,
   "metadata": {
    "collapsed": true,
    "ExecuteTime": {
     "end_time": "2023-08-14T16:22:18.943497Z",
     "start_time": "2023-08-14T16:22:16.708574Z"
    }
   },
   "outputs": [
    {
     "name": "stdout",
     "output_type": "stream",
     "text": [
      "Starting to parse FermionOperator using 6 qubits...\n",
      "\n",
      "Operator t:  (-0.09886396933545855+0j) []\n",
      "Term, coeff:  () (-0.09886396933545855+0j)\n",
      "Operator t:  (0.17119774903433+0j) [Z0]\n",
      "Term, coeff:  ((0, 'Z'),) (0.17119774903433+0j)\n",
      "Index, p_char:  0 Z\n",
      "Operator t:  (0.17119774903432997+0j) [Z0 Z1]\n",
      "Term, coeff:  ((0, 'Z'), (1, 'Z')) (0.17119774903432997+0j)\n",
      "Index, p_char:  0 Z\n",
      "Index, p_char:  1 Z\n",
      "Operator t:  (-0.22278593040418473+0j) [Z2]\n",
      "Term, coeff:  ((2, 'Z'),) (-0.22278593040418473+0j)\n",
      "Index, p_char:  2 Z\n",
      "Operator t:  (-0.2227859304041847+0j) [Z1 Z2 Z3]\n",
      "Term, coeff:  ((1, 'Z'), (2, 'Z'), (3, 'Z')) (-0.2227859304041847+0j)\n",
      "Index, p_char:  1 Z\n",
      "Index, p_char:  2 Z\n",
      "Index, p_char:  3 Z\n",
      "Operator t:  (0.1686221915892095+0j) [Z1]\n",
      "Term, coeff:  ((1, 'Z'),) (0.1686221915892095+0j)\n",
      "Index, p_char:  1 Z\n",
      "Operator t:  (0.04532220205287401+0j) [Y0 Z1 Y2 Z3]\n",
      "Term, coeff:  ((0, 'Y'), (1, 'Z'), (2, 'Y'), (3, 'Z')) (0.04532220205287401+0j)\n",
      "Index, p_char:  0 Y\n",
      "Index, p_char:  1 Z\n",
      "Index, p_char:  2 Y\n",
      "Index, p_char:  3 Z\n",
      "Operator t:  (0.04532220205287401+0j) [X0 Z1 X2]\n",
      "Term, coeff:  ((0, 'X'), (1, 'Z'), (2, 'X')) (0.04532220205287401+0j)\n",
      "Index, p_char:  0 X\n",
      "Index, p_char:  1 Z\n",
      "Index, p_char:  2 X\n",
      "Operator t:  (0.04532220205287401+0j) [X0 Z1 X2 Z3]\n",
      "Term, coeff:  ((0, 'X'), (1, 'Z'), (2, 'X'), (3, 'Z')) (0.04532220205287401+0j)\n",
      "Index, p_char:  0 X\n",
      "Index, p_char:  1 Z\n",
      "Index, p_char:  2 X\n",
      "Index, p_char:  3 Z\n",
      "Operator t:  (0.04532220205287401+0j) [Y0 Z1 Y2]\n",
      "Term, coeff:  ((0, 'Y'), (1, 'Z'), (2, 'Y')) (0.04532220205287401+0j)\n",
      "Index, p_char:  0 Y\n",
      "Index, p_char:  1 Z\n",
      "Index, p_char:  2 Y\n",
      "Operator t:  (0.12054482205301797+0j) [Z0 Z2]\n",
      "Term, coeff:  ((0, 'Z'), (2, 'Z')) (0.12054482205301797+0j)\n",
      "Index, p_char:  0 Z\n",
      "Index, p_char:  2 Z\n",
      "Operator t:  (0.165867024105892+0j) [Z0 Z1 Z2 Z3]\n",
      "Term, coeff:  ((0, 'Z'), (1, 'Z'), (2, 'Z'), (3, 'Z')) (0.165867024105892+0j)\n",
      "Index, p_char:  0 Z\n",
      "Index, p_char:  1 Z\n",
      "Index, p_char:  2 Z\n",
      "Index, p_char:  3 Z\n",
      "Operator t:  (0.165867024105892+0j) [Z0 Z1 Z2]\n",
      "Term, coeff:  ((0, 'Z'), (1, 'Z'), (2, 'Z')) (0.165867024105892+0j)\n",
      "Index, p_char:  0 Z\n",
      "Index, p_char:  1 Z\n",
      "Index, p_char:  2 Z\n",
      "Operator t:  (0.12054482205301797+0j) [Z0 Z2 Z3]\n",
      "Term, coeff:  ((0, 'Z'), (2, 'Z'), (3, 'Z')) (0.12054482205301797+0j)\n",
      "Index, p_char:  0 Z\n",
      "Index, p_char:  2 Z\n",
      "Index, p_char:  3 Z\n",
      "Operator t:  (0.17434844185575687+0j) [Z1 Z3]\n",
      "Term, coeff:  ((1, 'Z'), (3, 'Z')) (0.17434844185575687+0j)\n",
      "Index, p_char:  1 Z\n",
      "Index, p_char:  3 Z\n"
     ]
    }
   ],
   "source": [
    "from benchmark.molecule import DiatomicMolecularHamiltonian\n",
    "\n",
    "molecule = DiatomicMolecularHamiltonian(6, \"sto-3g\", \"H\", \"H\", 0.7414, True)"
   ]
  }
 ],
 "metadata": {
  "kernelspec": {
   "display_name": "Python 3",
   "language": "python",
   "name": "python3"
  },
  "language_info": {
   "codemirror_mode": {
    "name": "ipython",
    "version": 2
   },
   "file_extension": ".py",
   "mimetype": "text/x-python",
   "name": "python",
   "nbconvert_exporter": "python",
   "pygments_lexer": "ipython2",
   "version": "2.7.6"
  }
 },
 "nbformat": 4,
 "nbformat_minor": 0
}
