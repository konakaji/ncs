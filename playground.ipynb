{
 "cells": [
  {
   "cell_type": "code",
   "execution_count": 1,
   "metadata": {
    "collapsed": true
   },
   "outputs": [
    {
     "name": "stdout",
     "output_type": "stream",
     "text": [
      "converged SCF energy = -15.0242100060364\n"
     ]
    }
   ],
   "source": [
    "from gqe.operator_pool.uccsd import UCCSD, do_generate_molecule\n",
    "\n",
    "bond_length = 3.0\n",
    "geometry = f\"H 0.0 0.0 0.0\\n\" + f\"Be 0.0 0.0 {bond_length}\\n\" + f\"H 0.0 0.0 {2 * bond_length}\\n\"\n",
    "molecule = do_generate_molecule(geometry, \"sto-3g\", bravyi_kitaev=False)\n",
    "uccsd = UCCSD(12, molecule)"
   ]
  }
 ],
 "metadata": {
  "kernelspec": {
   "display_name": "Python 3",
   "language": "python",
   "name": "python3"
  },
  "language_info": {
   "codemirror_mode": {
    "name": "ipython",
    "version": 2
   },
   "file_extension": ".py",
   "mimetype": "text/x-python",
   "name": "python",
   "nbconvert_exporter": "python",
   "pygments_lexer": "ipython2",
   "version": "2.7.6"
  }
 },
 "nbformat": 4,
 "nbformat_minor": 0
}
